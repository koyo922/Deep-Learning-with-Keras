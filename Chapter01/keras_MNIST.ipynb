{
 "cells": [
  {
   "cell_type": "code",
   "execution_count": 2,
   "metadata": {
    "collapsed": true
   },
   "outputs": [],
   "source": [
    "import numpy as np\n",
    "np.random.seed(1671)\n",
    "\n",
    "from keras.datasets import mnist\n",
    "from keras.models import Sequential\n",
    "from keras.layers.core import Dense, Activation\n",
    "from keras.optimizers import SGD\n",
    "from keras.utils import np_utils"
   ]
  },
  {
   "cell_type": "code",
   "execution_count": 15,
   "metadata": {
    "collapsed": true
   },
   "outputs": [],
   "source": [
    "NB_EPOCH = 20\n",
    "BATCH_SIZE = 128\n",
    "VERBOSE = 1\n",
    "NB_CLASSES = 10\n",
    "N_HIDDEN = 128\n",
    "VALIDATION_SPLIT = 0.2"
   ]
  },
  {
   "cell_type": "code",
   "execution_count": 6,
   "metadata": {},
   "outputs": [
    {
     "name": "stdout",
     "output_type": "stream",
     "text": [
      "Downloading data from https://s3.amazonaws.com/img-datasets/mnist.npz\n",
      "11149312/11490434 [============================>.] - ETA: 0s60000 train examples, 10000 test examples\n"
     ]
    }
   ],
   "source": [
    "(x_train, y_train), (x_test, y_test) = mnist.load_data()\n",
    "RESHAPED = 28*28\n",
    "\n",
    "x_train, x_test = [a.reshape(-1, RESHAPED).astype('float32')/255 for a in (x_train, x_test) ]\n",
    "y_train, y_test = [np_utils.to_categorical(a, NB_CLASSES) for a in (y_train, y_test)]\n",
    "\n",
    "print('\\n{} train examples, {} test examples'.format(x_train.shape[0], x_test.shape[0]) )"
   ]
  },
  {
   "cell_type": "code",
   "execution_count": 16,
   "metadata": {},
   "outputs": [
    {
     "name": "stdout",
     "output_type": "stream",
     "text": [
      "_________________________________________________________________\n",
      "Layer (type)                 Output Shape              Param #   \n",
      "=================================================================\n",
      "dense_3 (Dense)              (None, 128)               100480    \n",
      "_________________________________________________________________\n",
      "activation_3 (Activation)    (None, 128)               0         \n",
      "_________________________________________________________________\n",
      "dense_4 (Dense)              (None, 128)               16512     \n",
      "_________________________________________________________________\n",
      "activation_4 (Activation)    (None, 128)               0         \n",
      "_________________________________________________________________\n",
      "dense_5 (Dense)              (None, 10)                1290      \n",
      "_________________________________________________________________\n",
      "activation_5 (Activation)    (None, 10)                0         \n",
      "=================================================================\n",
      "Total params: 118,282\n",
      "Trainable params: 118,282\n",
      "Non-trainable params: 0\n",
      "_________________________________________________________________\n"
     ]
    }
   ],
   "source": [
    "model = Sequential()\n",
    "model.add(Dense(N_HIDDEN, input_shape=(RESHAPED,)))\n",
    "model.add(Activation('relu'))\n",
    "model.add(Dense(N_HIDDEN))\n",
    "model.add(Activation('relu'))\n",
    "model.add(Dense(NB_CLASSES))\n",
    "model.add(Activation('softmax'))\n",
    "model.summary()"
   ]
  },
  {
   "cell_type": "code",
   "execution_count": 17,
   "metadata": {},
   "outputs": [],
   "source": [
    "model.compile(loss='categorical_crossentropy', optimizer=SGD(), metrics=['accuracy'])"
   ]
  },
  {
   "cell_type": "code",
   "execution_count": 18,
   "metadata": {
    "scrolled": false
   },
   "outputs": [
    {
     "name": "stdout",
     "output_type": "stream",
     "text": [
      "Train on 48000 samples, validate on 12000 samples\n",
      "Epoch 1/20\n",
      "48000/48000 [==============================] - 5s - loss: 0.7485 - acc: 0.8024 - val_loss: 0.3395 - val_acc: 0.9072\n",
      "Epoch 2/20\n",
      "48000/48000 [==============================] - 4s - loss: 0.3255 - acc: 0.9073 - val_loss: 0.2752 - val_acc: 0.9216\n",
      "Epoch 3/20\n",
      "48000/48000 [==============================] - 5s - loss: 0.2687 - acc: 0.9235 - val_loss: 0.2397 - val_acc: 0.9317\n",
      "Epoch 4/20\n",
      "48000/48000 [==============================] - 5s - loss: 0.2330 - acc: 0.9334 - val_loss: 0.2102 - val_acc: 0.9422\n",
      "Epoch 5/20\n",
      "48000/48000 [==============================] - 5s - loss: 0.2065 - acc: 0.9410 - val_loss: 0.1916 - val_acc: 0.9463\n",
      "Epoch 6/20\n",
      "48000/48000 [==============================] - 5s - loss: 0.1850 - acc: 0.9469 - val_loss: 0.1809 - val_acc: 0.9508\n",
      "Epoch 7/20\n",
      "48000/48000 [==============================] - 6s - loss: 0.1680 - acc: 0.9517 - val_loss: 0.1620 - val_acc: 0.9545\n",
      "Epoch 8/20\n",
      "48000/48000 [==============================] - 5s - loss: 0.1534 - acc: 0.9562 - val_loss: 0.1523 - val_acc: 0.9569\n",
      "Epoch 9/20\n",
      "48000/48000 [==============================] - 6s - loss: 0.1410 - acc: 0.9600 - val_loss: 0.1464 - val_acc: 0.9593\n",
      "Epoch 10/20\n",
      "48000/48000 [==============================] - 6s - loss: 0.1306 - acc: 0.9625 - val_loss: 0.1357 - val_acc: 0.9613\n",
      "Epoch 11/20\n",
      "48000/48000 [==============================] - 6s - loss: 0.1210 - acc: 0.9655 - val_loss: 0.1307 - val_acc: 0.9621\n",
      "Epoch 12/20\n",
      "48000/48000 [==============================] - 5s - loss: 0.1127 - acc: 0.9682 - val_loss: 0.1243 - val_acc: 0.9641\n",
      "Epoch 13/20\n",
      "48000/48000 [==============================] - 6s - loss: 0.1052 - acc: 0.9699 - val_loss: 0.1200 - val_acc: 0.9652\n",
      "Epoch 14/20\n",
      "48000/48000 [==============================] - 5s - loss: 0.0986 - acc: 0.9727 - val_loss: 0.1160 - val_acc: 0.9663\n",
      "Epoch 15/20\n",
      "48000/48000 [==============================] - 4s - loss: 0.0929 - acc: 0.9739 - val_loss: 0.1134 - val_acc: 0.9670\n",
      "Epoch 16/20\n",
      "48000/48000 [==============================] - 4s - loss: 0.0875 - acc: 0.9756 - val_loss: 0.1072 - val_acc: 0.9685\n",
      "Epoch 17/20\n",
      "48000/48000 [==============================] - 5s - loss: 0.0825 - acc: 0.9769 - val_loss: 0.1116 - val_acc: 0.9675\n",
      "Epoch 18/20\n",
      "48000/48000 [==============================] - 5s - loss: 0.0777 - acc: 0.9776 - val_loss: 0.1069 - val_acc: 0.9691\n",
      "Epoch 19/20\n",
      "48000/48000 [==============================] - 4s - loss: 0.0736 - acc: 0.9792 - val_loss: 0.1056 - val_acc: 0.9693\n",
      "Epoch 20/20\n",
      "48000/48000 [==============================] - 5s - loss: 0.0696 - acc: 0.9804 - val_loss: 0.1008 - val_acc: 0.9700\n"
     ]
    }
   ],
   "source": [
    "history = model.fit(x_train, y_train, epochs=NB_EPOCH, verbose=VERBOSE, validation_split=VALIDATION_SPLIT)"
   ]
  },
  {
   "cell_type": "code",
   "execution_count": 19,
   "metadata": {},
   "outputs": [
    {
     "name": "stdout",
     "output_type": "stream",
     "text": [
      " 9248/10000 [==========================>...] - ETA: 0s"
     ]
    },
    {
     "data": {
      "text/plain": [
       "[0.097024046644940978, 0.97209999999999996]"
      ]
     },
     "execution_count": 19,
     "metadata": {},
     "output_type": "execute_result"
    }
   ],
   "source": [
    "score = model.evaluate(x_test, y_test)\n",
    "score"
   ]
  }
 ],
 "metadata": {
  "kernelspec": {
   "display_name": "Python [default]",
   "language": "python",
   "name": "python3"
  },
  "language_info": {
   "codemirror_mode": {
    "name": "ipython",
    "version": 3
   },
   "file_extension": ".py",
   "mimetype": "text/x-python",
   "name": "python",
   "nbconvert_exporter": "python",
   "pygments_lexer": "ipython3",
   "version": "3.5.2"
  },
  "latex_envs": {
   "LaTeX_envs_menu_present": true,
   "autocomplete": true,
   "bibliofile": "biblio.bib",
   "cite_by": "apalike",
   "current_citInitial": 1,
   "eqLabelWithNumbers": true,
   "eqNumInitial": 1,
   "hotkeys": {
    "equation": "Ctrl-E",
    "itemize": "Ctrl-I"
   },
   "labels_anchors": false,
   "latex_user_defs": false,
   "report_style_numbering": false,
   "user_envs_cfg": false
  }
 },
 "nbformat": 4,
 "nbformat_minor": 2
}
