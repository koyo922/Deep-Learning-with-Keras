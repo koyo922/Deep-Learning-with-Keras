{
 "cells": [
  {
   "cell_type": "code",
   "execution_count": 2,
   "metadata": {
    "collapsed": true
   },
   "outputs": [],
   "source": [
    "import numpy as np\n",
    "np.random.seed(1671)\n",
    "\n",
    "from keras.datasets import mnist\n",
    "from keras.models import Sequential\n",
    "from keras.layers.core import Dense, Activation\n",
    "from keras.optimizers import SGD\n",
    "from keras.utils import np_utils"
   ]
  },
  {
   "cell_type": "code",
   "execution_count": 15,
   "metadata": {
    "collapsed": true
   },
   "outputs": [],
   "source": [
    "NB_EPOCH = 20\n",
    "BATCH_SIZE = 128\n",
    "VERBOSE = 1\n",
    "NB_CLASSES = 10\n",
    "N_HIDDEN = 128\n",
    "VALIDATION_SPLIT = 0.2"
   ]
  },
  {
   "cell_type": "code",
   "execution_count": 6,
   "metadata": {},
   "outputs": [
    {
     "name": "stdout",
     "output_type": "stream",
     "text": [
      "Downloading data from https://s3.amazonaws.com/img-datasets/mnist.npz\n",
      "11149312/11490434 [============================>.] - ETA: 0s60000 train examples, 10000 test examples\n"
     ]
    }
   ],
   "source": [
    "(x_train, y_train), (x_test, y_test) = mnist.load_data()\n",
    "RESHAPED = 28*28\n",
    "\n",
    "x_train, x_test = [a.reshape(-1, RESHAPED).astype('float32')/255 for a in (x_train, x_test) ]\n",
    "y_train, y_test = [np_utils.to_categorical(a, NB_CLASSES) for a in (y_train, y_test)]\n",
    "\n",
    "print('\\n{} train examples, {} test examples'.format(x_train.shape[0], x_test.shape[0]) )"
   ]
  },
  {
   "cell_type": "code",
   "execution_count": 35,
   "metadata": {
    "collapsed": true
   },
   "outputs": [],
   "source": [
    "from keras.layers.core import Dropout\n",
    "DROPOUT = 0.3\n",
    "NB_EPOCH = 30"
   ]
  },
  {
   "cell_type": "code",
   "execution_count": 22,
   "metadata": {
    "scrolled": true
   },
   "outputs": [
    {
     "name": "stdout",
     "output_type": "stream",
     "text": [
      "_________________________________________________________________\n",
      "Layer (type)                 Output Shape              Param #   \n",
      "=================================================================\n",
      "dense_6 (Dense)              (None, 128)               100480    \n",
      "_________________________________________________________________\n",
      "activation_6 (Activation)    (None, 128)               0         \n",
      "_________________________________________________________________\n",
      "dropout_1 (Dropout)          (None, 128)               0         \n",
      "_________________________________________________________________\n",
      "dense_7 (Dense)              (None, 128)               16512     \n",
      "_________________________________________________________________\n",
      "activation_7 (Activation)    (None, 128)               0         \n",
      "_________________________________________________________________\n",
      "dropout_2 (Dropout)          (None, 128)               0         \n",
      "_________________________________________________________________\n",
      "dense_8 (Dense)              (None, 10)                1290      \n",
      "_________________________________________________________________\n",
      "activation_8 (Activation)    (None, 10)                0         \n",
      "=================================================================\n",
      "Total params: 118,282\n",
      "Trainable params: 118,282\n",
      "Non-trainable params: 0\n",
      "_________________________________________________________________\n"
     ]
    }
   ],
   "source": [
    "model = Sequential()\n",
    "model.add(Dense(N_HIDDEN, input_shape=(RESHAPED,)))\n",
    "model.add(Activation('relu'))\n",
    "model.add(Dropout(DROPOUT))\n",
    "model.add(Dense(N_HIDDEN))\n",
    "model.add(Activation('relu'))\n",
    "model.add(Dropout(DROPOUT))\n",
    "model.add(Dense(NB_CLASSES))\n",
    "model.add(Activation('softmax'))\n",
    "model.summary()"
   ]
  },
  {
   "cell_type": "code",
   "execution_count": 34,
   "metadata": {
    "collapsed": true
   },
   "outputs": [],
   "source": [
    "from keras.optimizers import RMSprop, Adam"
   ]
  },
  {
   "cell_type": "code",
   "execution_count": 36,
   "metadata": {},
   "outputs": [],
   "source": [
    "model.compile(loss='categorical_crossentropy', optimizer=RMSprop(), metrics=['accuracy'])"
   ]
  },
  {
   "cell_type": "code",
   "execution_count": 37,
   "metadata": {
    "scrolled": true
   },
   "outputs": [
    {
     "name": "stdout",
     "output_type": "stream",
     "text": [
      "Train on 48000 samples, validate on 12000 samples\n",
      "Epoch 1/30\n",
      "48000/48000 [==============================] - 7s - loss: 0.1864 - acc: 0.9445 - val_loss: 0.1197 - val_acc: 0.9674\n",
      "Epoch 2/30\n",
      "48000/48000 [==============================] - 6s - loss: 0.1677 - acc: 0.9531 - val_loss: 0.1140 - val_acc: 0.9718\n",
      "Epoch 3/30\n",
      "48000/48000 [==============================] - 7s - loss: 0.1566 - acc: 0.9584 - val_loss: 0.1208 - val_acc: 0.9717\n",
      "Epoch 4/30\n",
      "48000/48000 [==============================] - 6s - loss: 0.1559 - acc: 0.9599 - val_loss: 0.1192 - val_acc: 0.9731\n",
      "Epoch 5/30\n",
      "48000/48000 [==============================] - 6s - loss: 0.1515 - acc: 0.9629 - val_loss: 0.1223 - val_acc: 0.9722\n",
      "Epoch 6/30\n",
      "48000/48000 [==============================] - 6s - loss: 0.1522 - acc: 0.9639 - val_loss: 0.1335 - val_acc: 0.9724\n",
      "Epoch 7/30\n",
      "48000/48000 [==============================] - 6s - loss: 0.1463 - acc: 0.9661 - val_loss: 0.1448 - val_acc: 0.9722\n",
      "Epoch 8/30\n",
      "48000/48000 [==============================] - 6s - loss: 0.1526 - acc: 0.9664 - val_loss: 0.1407 - val_acc: 0.9721\n",
      "Epoch 9/30\n",
      "48000/48000 [==============================] - 6s - loss: 0.1478 - acc: 0.9675 - val_loss: 0.1373 - val_acc: 0.9731\n",
      "Epoch 10/30\n",
      "48000/48000 [==============================] - 6s - loss: 0.1487 - acc: 0.9668 - val_loss: 0.1399 - val_acc: 0.9732\n",
      "Epoch 11/30\n",
      "48000/48000 [==============================] - 6s - loss: 0.1499 - acc: 0.9680 - val_loss: 0.1360 - val_acc: 0.9748\n",
      "Epoch 12/30\n",
      "48000/48000 [==============================] - 6s - loss: 0.1468 - acc: 0.9707 - val_loss: 0.1418 - val_acc: 0.9741\n",
      "Epoch 13/30\n",
      "48000/48000 [==============================] - 6s - loss: 0.1501 - acc: 0.9703 - val_loss: 0.1522 - val_acc: 0.9739\n",
      "Epoch 14/30\n",
      "48000/48000 [==============================] - 6s - loss: 0.1495 - acc: 0.9704 - val_loss: 0.1528 - val_acc: 0.9741\n",
      "Epoch 15/30\n",
      "48000/48000 [==============================] - 6s - loss: 0.1543 - acc: 0.9705 - val_loss: 0.1488 - val_acc: 0.9735\n",
      "Epoch 16/30\n",
      "48000/48000 [==============================] - 6s - loss: 0.1571 - acc: 0.9708 - val_loss: 0.1537 - val_acc: 0.9753\n",
      "Epoch 17/30\n",
      "48000/48000 [==============================] - 6s - loss: 0.1530 - acc: 0.9710 - val_loss: 0.1503 - val_acc: 0.9742\n",
      "Epoch 18/30\n",
      "48000/48000 [==============================] - 6s - loss: 0.1491 - acc: 0.9717 - val_loss: 0.1753 - val_acc: 0.9726\n",
      "Epoch 19/30\n",
      "48000/48000 [==============================] - 6s - loss: 0.1577 - acc: 0.9716 - val_loss: 0.1578 - val_acc: 0.9746\n",
      "Epoch 20/30\n",
      "48000/48000 [==============================] - 6s - loss: 0.1566 - acc: 0.9726 - val_loss: 0.1600 - val_acc: 0.9765\n",
      "Epoch 21/30\n",
      "48000/48000 [==============================] - 7s - loss: 0.1575 - acc: 0.9728 - val_loss: 0.1629 - val_acc: 0.9752\n",
      "Epoch 22/30\n",
      "48000/48000 [==============================] - 6s - loss: 0.1537 - acc: 0.9741 - val_loss: 0.1643 - val_acc: 0.9751\n",
      "Epoch 23/30\n",
      "48000/48000 [==============================] - 6s - loss: 0.1567 - acc: 0.9731 - val_loss: 0.1732 - val_acc: 0.9744\n",
      "Epoch 24/30\n",
      "48000/48000 [==============================] - 6s - loss: 0.1574 - acc: 0.9738 - val_loss: 0.1769 - val_acc: 0.9761\n",
      "Epoch 25/30\n",
      "48000/48000 [==============================] - 6s - loss: 0.1623 - acc: 0.9732 - val_loss: 0.1726 - val_acc: 0.9755\n",
      "Epoch 26/30\n",
      "48000/48000 [==============================] - 6s - loss: 0.1606 - acc: 0.9733 - val_loss: 0.1794 - val_acc: 0.9757\n",
      "Epoch 27/30\n",
      "48000/48000 [==============================] - 6s - loss: 0.1591 - acc: 0.9733 - val_loss: 0.1785 - val_acc: 0.9740\n",
      "Epoch 28/30\n",
      "48000/48000 [==============================] - 6s - loss: 0.1641 - acc: 0.9739 - val_loss: 0.1976 - val_acc: 0.9738\n",
      "Epoch 29/30\n",
      "48000/48000 [==============================] - 6s - loss: 0.1584 - acc: 0.9737 - val_loss: 0.1739 - val_acc: 0.9746\n",
      "Epoch 30/30\n",
      "48000/48000 [==============================] - 6s - loss: 0.1677 - acc: 0.9732 - val_loss: 0.1849 - val_acc: 0.9752\n"
     ]
    }
   ],
   "source": [
    "history = model.fit(x_train, y_train, epochs=NB_EPOCH, verbose=VERBOSE, validation_split=VALIDATION_SPLIT)"
   ]
  },
  {
   "cell_type": "code",
   "execution_count": 25,
   "metadata": {},
   "outputs": [
    {
     "name": "stdout",
     "output_type": "stream",
     "text": [
      " 9344/10000 [===========================>..] - ETA: 0s"
     ]
    },
    {
     "data": {
      "text/plain": [
       "[0.10379814946781844, 0.96719999999999995]"
      ]
     },
     "execution_count": 25,
     "metadata": {},
     "output_type": "execute_result"
    }
   ],
   "source": [
    "score = model.evaluate(x_test, y_test, verbose=VERBOSE)\n",
    "score"
   ]
  },
  {
   "cell_type": "code",
   "execution_count": 29,
   "metadata": {
    "collapsed": true
   },
   "outputs": [],
   "source": [
    "import pandas as pd\n",
    "import seaborn as sns\n",
    "%matplotlib inline\n",
    "\n",
    "pd.DataFrame(history.history).plot()"
   ]
  }
 ],
 "metadata": {
  "kernelspec": {
   "display_name": "Python [default]",
   "language": "python",
   "name": "python3"
  },
  "language_info": {
   "codemirror_mode": {
    "name": "ipython",
    "version": 3
   },
   "file_extension": ".py",
   "mimetype": "text/x-python",
   "name": "python",
   "nbconvert_exporter": "python",
   "pygments_lexer": "ipython3",
   "version": "3.5.2"
  },
  "latex_envs": {
   "LaTeX_envs_menu_present": true,
   "autocomplete": true,
   "bibliofile": "biblio.bib",
   "cite_by": "apalike",
   "current_citInitial": 1,
   "eqLabelWithNumbers": true,
   "eqNumInitial": 1,
   "hotkeys": {
    "equation": "Ctrl-E",
    "itemize": "Ctrl-I"
   },
   "labels_anchors": false,
   "latex_user_defs": false,
   "report_style_numbering": false,
   "user_envs_cfg": false
  }
 },
 "nbformat": 4,
 "nbformat_minor": 2
}
